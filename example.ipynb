{
 "cells": [
  {
   "cell_type": "code",
   "execution_count": 6,
   "metadata": {},
   "outputs": [
    {
     "name": "stdout",
     "output_type": "stream",
     "text": [
      "Model: \"model_3\"\n",
      "_________________________________________________________________\n",
      " Layer (type)                Output Shape              Param #   \n",
      "=================================================================\n",
      " input_10 (InputLayer)       [(None, 384, 384, 3)]     0         \n",
      "                                                                 \n",
      " lambda_5 (Lambda)           (None, 384, 384, 3)       0         \n",
      "                                                                 \n",
      " swin2_tiny_256 (Functional)  (None, 384, 384, 1)      36071623  \n",
      "                                                                 \n",
      "=================================================================\n",
      "Total params: 36,071,623\n",
      "Trainable params: 36,071,623\n",
      "Non-trainable params: 0\n",
      "_________________________________________________________________\n"
     ]
    }
   ],
   "source": [
    "from keras import layers, models\n",
    "from tfswin import SwinTransformerV2Tiny256, preprocess_input\n",
    "\n",
    "\n",
    "# Transformers are very sensitive to preprocessing so using preprocess_input is recommended\n",
    "inputs = layers.Input(shape=(384, 384, 3), dtype='uint8')\n",
    "outputs = layers.Lambda(preprocess_input)(inputs)\n",
    "outputs = SwinTransformerV2Tiny256(input_shape=(384, 384, 3), output_shape = (384, 384, 1))(outputs)\n",
    "\n",
    "model = models.Model(inputs=inputs, outputs=outputs)\n",
    "model.summary()"
   ]
  },
  {
   "cell_type": "code",
   "execution_count": 7,
   "metadata": {},
   "outputs": [
    {
     "name": "stdout",
     "output_type": "stream",
     "text": [
      "Model: \"swin_base_384\"\n",
      "__________________________________________________________________________________________________\n",
      " Layer (type)                   Output Shape         Param #     Connected to                     \n",
      "==================================================================================================\n",
      " input_12 (InputLayer)          [(None, 480, 480, 3  0           []                               \n",
      "                                )]                                                                \n",
      "                                                                                                  \n",
      " patch_embed (PatchEmbedding)   (None, 120, 120, 12  6528        ['input_12[0][0]']               \n",
      "                                8)                                                                \n",
      "                                                                                                  \n",
      " pos_drop (Dropout)             (None, 120, 120, 12  0           ['patch_embed[0][0]']            \n",
      "                                8)                                                                \n",
      "                                                                                                  \n",
      " layers.0 (BasicLayer)          (None, 120, 120, 12  400776      ['pos_drop[0][0]']               \n",
      "                                8)                                                                \n",
      "                                                                                                  \n",
      " layers.0/downsample (PatchMerg  (None, 60, 60, 256)  132096     ['layers.0[0][0]']               \n",
      " ing)                                                                                             \n",
      "                                                                                                  \n",
      " layers.1 (BasicLayer)          (None, 60, 60, 256)  1587984     ['layers.0/downsample[0][0]']    \n",
      "                                                                                                  \n",
      " layers.1/downsample (PatchMerg  (None, 30, 30, 512)  526336     ['layers.1[0][0]']               \n",
      " ing)                                                                                             \n",
      "                                                                                                  \n",
      " layers.2 (BasicLayer)          (None, 30, 30, 512)  56895264    ['layers.1/downsample[0][0]']    \n",
      "                                                                                                  \n",
      " layers.2/downsample (PatchMerg  (None, 15, 15, 1024  2101248    ['layers.2[0][0]']               \n",
      " ing)                           )                                                                 \n",
      "                                                                                                  \n",
      " layers.3 (BasicLayer)          (None, 15, 15, 1024  25226304    ['layers.2/downsample[0][0]']    \n",
      "                                )                                                                 \n",
      "                                                                                                  \n",
      " patch_expanding_16 (PatchExpan  (None, 30, 30, 512)  2097152    ['layers.3[0][0]']               \n",
      " ding)                                                                                            \n",
      "                                                                                                  \n",
      " upsampling_concat_0 (Concatena  (None, 30, 30, 1024  0          ['patch_expanding_16[0][0]',     \n",
      " te)                            )                                 'layers.2[0][0]']               \n",
      "                                                                                                  \n",
      " Upsampling_concat_linear_proj_  (None, 30, 30, 512)  524288     ['upsampling_concat_0[0][0]']    \n",
      " 0 (Dense)                                                                                        \n",
      "                                                                                                  \n",
      " Swin_Up.0 (BasicLayer)         (None, 30, 30, 512)  6338624     ['Upsampling_concat_linear_proj_0\n",
      "                                                                 [0][0]']                         \n",
      "                                                                                                  \n",
      " patch_expanding_17 (PatchExpan  (None, 60, 60, 256)  524288     ['Swin_Up.0[0][0]']              \n",
      " ding)                                                                                            \n",
      "                                                                                                  \n",
      " upsampling_concat_1 (Concatena  (None, 60, 60, 512)  0          ['patch_expanding_17[0][0]',     \n",
      " te)                                                              'layers.1[0][0]']               \n",
      "                                                                                                  \n",
      " Upsampling_concat_linear_proj_  (None, 60, 60, 256)  131072     ['upsampling_concat_1[0][0]']    \n",
      " 1 (Dense)                                                                                        \n",
      "                                                                                                  \n",
      " Swin_Up.1 (BasicLayer)         (None, 60, 60, 256)  14368032    ['Upsampling_concat_linear_proj_1\n",
      "                                                                 [0][0]']                         \n",
      "                                                                                                  \n",
      " patch_expanding_18 (PatchExpan  (None, 120, 120, 12  131072     ['Swin_Up.1[0][0]']              \n",
      " ding)                          8)                                                                \n",
      "                                                                                                  \n",
      " upsampling_concat_2 (Concatena  (None, 120, 120, 25  0          ['patch_expanding_18[0][0]',     \n",
      " te)                            6)                                'layers.0[0][0]']               \n",
      "                                                                                                  \n",
      " Upsampling_concat_linear_proj_  (None, 120, 120, 12  32768      ['upsampling_concat_2[0][0]']    \n",
      " 2 (Dense)                      8)                                                                \n",
      "                                                                                                  \n",
      " Swin_Up.2 (BasicLayer)         (None, 120, 120, 12  405008      ['Upsampling_concat_linear_proj_2\n",
      "                                8)                               [0][0]']                         \n",
      "                                                                                                  \n",
      " patch_expanding_19 (PatchExpan  (None, 480, 480, 32  65536      ['Swin_Up.2[0][0]']              \n",
      " ding)                          )                                                                 \n",
      "                                                                                                  \n",
      " last_conv_layer (Conv2D)       (None, 480, 480, 5)  165         ['patch_expanding_19[0][0]']     \n",
      "                                                                                                  \n",
      " last_activation (Activation)   (None, 480, 480, 5)  0           ['last_conv_layer[0][0]']        \n",
      "                                                                                                  \n",
      "==================================================================================================\n",
      "Total params: 111,494,541\n",
      "Trainable params: 111,494,541\n",
      "Non-trainable params: 0\n",
      "__________________________________________________________________________________________________\n"
     ]
    }
   ],
   "source": [
    "from tfswin import SwinTransformerBase384\n",
    "# Without preprocess\n",
    "model = SwinTransformerBase384(input_shape=(480, 480, 3), output_shape = (480, 480, 5))\n",
    "model.summary()"
   ]
  },
  {
   "cell_type": "code",
   "execution_count": null,
   "metadata": {},
   "outputs": [],
   "source": []
  }
 ],
 "metadata": {
  "interpreter": {
   "hash": "c51ca23a9f4e84b80c32b9c6b4e1efdb0d8c2a5bf29e5c1de7a03340d295b7a5"
  },
  "kernelspec": {
   "display_name": "Python 3.9.7 ('tf2.8')",
   "language": "python",
   "name": "python3"
  },
  "language_info": {
   "codemirror_mode": {
    "name": "ipython",
    "version": 3
   },
   "file_extension": ".py",
   "mimetype": "text/x-python",
   "name": "python",
   "nbconvert_exporter": "python",
   "pygments_lexer": "ipython3",
   "version": "3.9.7"
  },
  "orig_nbformat": 4
 },
 "nbformat": 4,
 "nbformat_minor": 2
}
